{
 "cells": [
  {
   "cell_type": "markdown",
   "id": "515f64ee",
   "metadata": {},
   "source": [
    "**Information:**\n",
    "\n",
    "This notebook is part of the `final assignment` of the coursera course: `Python project for data engineering`"
   ]
  },
  {
   "cell_type": "markdown",
   "id": "d2041bf8",
   "metadata": {},
   "source": [
    "**Objectives:**\n",
    "\n",
    "- Perform the ETL process:\n",
    " - Extract bank market capital data and the currency exchange data;\n",
    " - Transform the market cap currency using the exchange data;\n",
    " - Load the transformed data to a .csv file;"
   ]
  },
  {
   "cell_type": "markdown",
   "id": "8a78996d",
   "metadata": {},
   "source": [
    "Packages"
   ]
  },
  {
   "cell_type": "code",
   "execution_count": 1,
   "id": "7cde2566",
   "metadata": {},
   "outputs": [],
   "source": [
    "import pandas as pd\n",
    "import glob\n",
    "from datetime import datetime"
   ]
  },
  {
   "cell_type": "markdown",
   "id": "bf5d3467",
   "metadata": {},
   "source": [
    "**Extract:**\n",
    "\n",
    "The data to be extract comes from .json file.\n",
    "\n",
    "The extract function must extract localize the `bank_market_cap_1.json` file.</br>\n",
    "\n",
    "The folder `\"C:/Users/emers/Downloads/final_assignment/\"` has the following files stored:\n",
    " - `bank_market_cap_1.json`\n",
    " - `bank_market_cap_2.json`\n",
    " - `exchange_rates.csv`"
   ]
  },
  {
   "cell_type": "code",
   "execution_count": 2,
   "id": "8b4b9245",
   "metadata": {},
   "outputs": [],
   "source": [
    "# Function to extract data from .json file:\n",
    "\n",
    "def extract_from_json_to_df(path):\n",
    "    df = pd.DataFrame(columns = [\"Name\", \"Market Cap (US$ Billion)\"])\n",
    "    \n",
    "    json_path = path + \"bank_market_cap_1.json\"\n",
    "    df = pd.read_json(json_path)\n",
    "    \n",
    "    return df"
   ]
  },
  {
   "cell_type": "code",
   "execution_count": 3,
   "id": "0479d164",
   "metadata": {},
   "outputs": [
    {
     "data": {
      "text/html": [
       "<div>\n",
       "<style scoped>\n",
       "    .dataframe tbody tr th:only-of-type {\n",
       "        vertical-align: middle;\n",
       "    }\n",
       "\n",
       "    .dataframe tbody tr th {\n",
       "        vertical-align: top;\n",
       "    }\n",
       "\n",
       "    .dataframe thead th {\n",
       "        text-align: right;\n",
       "    }\n",
       "</style>\n",
       "<table border=\"1\" class=\"dataframe\">\n",
       "  <thead>\n",
       "    <tr style=\"text-align: right;\">\n",
       "      <th></th>\n",
       "      <th>Name</th>\n",
       "      <th>Market Cap (US$ Billion)</th>\n",
       "    </tr>\n",
       "  </thead>\n",
       "  <tbody>\n",
       "    <tr>\n",
       "      <th>0</th>\n",
       "      <td>JPMorgan Chase</td>\n",
       "      <td>390.934</td>\n",
       "    </tr>\n",
       "    <tr>\n",
       "      <th>1</th>\n",
       "      <td>Industrial and Commercial Bank of China</td>\n",
       "      <td>345.214</td>\n",
       "    </tr>\n",
       "    <tr>\n",
       "      <th>2</th>\n",
       "      <td>Bank of America</td>\n",
       "      <td>325.331</td>\n",
       "    </tr>\n",
       "    <tr>\n",
       "      <th>3</th>\n",
       "      <td>Wells Fargo</td>\n",
       "      <td>308.013</td>\n",
       "    </tr>\n",
       "    <tr>\n",
       "      <th>4</th>\n",
       "      <td>China Construction Bank</td>\n",
       "      <td>257.399</td>\n",
       "    </tr>\n",
       "  </tbody>\n",
       "</table>\n",
       "</div>"
      ],
      "text/plain": [
       "                                      Name  Market Cap (US$ Billion)\n",
       "0                           JPMorgan Chase                   390.934\n",
       "1  Industrial and Commercial Bank of China                   345.214\n",
       "2                          Bank of America                   325.331\n",
       "3                              Wells Fargo                   308.013\n",
       "4                  China Construction Bank                   257.399"
      ]
     },
     "execution_count": 3,
     "metadata": {},
     "output_type": "execute_result"
    }
   ],
   "source": [
    "extract_from_json_to_df(\"C:/Users/emers/Downloads/final_assignment/\").head()"
   ]
  },
  {
   "cell_type": "markdown",
   "id": "d0e06eea",
   "metadata": {},
   "source": [
    "**Question 1** <br/> \n",
    "Load the file exchange_rates.csv as a dataframe and find the exchange rate for British pounds with the symbol `GBP`, store it in the variable `exchange_rate`, you will be asked for the number. Hint: set the parameter index_col to 0."
   ]
  },
  {
   "cell_type": "code",
   "execution_count": 4,
   "id": "9e2f085c",
   "metadata": {},
   "outputs": [
    {
     "data": {
      "text/plain": [
       "Rates    0.732398\n",
       "Name: GBP, dtype: float64"
      ]
     },
     "execution_count": 4,
     "metadata": {},
     "output_type": "execute_result"
    }
   ],
   "source": [
    "# Load the exchange rate file\n",
    "\n",
    "path_csv =  \"C:/Users/emers/Downloads/final_assignment/exchange_rates.csv\"\n",
    "\n",
    "exchange_rate = pd.read_csv(path_csv,index_col = 0).loc[\"GBP\"]\n",
    "exchange_rate"
   ]
  },
  {
   "cell_type": "markdown",
   "id": "f27e335d",
   "metadata": {},
   "source": [
    "**Transform:**\n",
    "\n",
    "The transform function must perform the following actions:\n",
    " - Using the exhange rate to USD to GBP, transform the Banks market cap values to GBP\n",
    " - Round off the values of the banks market cap to 3 decimals.\n",
    " - Rename the Market capital to 'Market Cap (GBP$ Billion)'"
   ]
  },
  {
   "cell_type": "code",
   "execution_count": 7,
   "id": "d8d2acb1",
   "metadata": {},
   "outputs": [],
   "source": [
    "def transform(df,ex):\n",
    "    df[\"Market Cap (US$ Billion)\"] = round(df[\"Market Cap (US$ Billion)\"]*ex,3)\n",
    "    df = df.rename(columns = {\"Market Cap (US$ Billion)\":\"Market Cap (GBP$ Billion)\"})\n",
    "    \n",
    "    return df"
   ]
  },
  {
   "cell_type": "code",
   "execution_count": 9,
   "id": "1ca74718",
   "metadata": {},
   "outputs": [
    {
     "data": {
      "text/html": [
       "<div>\n",
       "<style scoped>\n",
       "    .dataframe tbody tr th:only-of-type {\n",
       "        vertical-align: middle;\n",
       "    }\n",
       "\n",
       "    .dataframe tbody tr th {\n",
       "        vertical-align: top;\n",
       "    }\n",
       "\n",
       "    .dataframe thead th {\n",
       "        text-align: right;\n",
       "    }\n",
       "</style>\n",
       "<table border=\"1\" class=\"dataframe\">\n",
       "  <thead>\n",
       "    <tr style=\"text-align: right;\">\n",
       "      <th></th>\n",
       "      <th>Name</th>\n",
       "      <th>Market Cap (GBP$ Billion)</th>\n",
       "    </tr>\n",
       "  </thead>\n",
       "  <tbody>\n",
       "    <tr>\n",
       "      <th>0</th>\n",
       "      <td>JPMorgan Chase</td>\n",
       "      <td>286.319</td>\n",
       "    </tr>\n",
       "    <tr>\n",
       "      <th>1</th>\n",
       "      <td>Industrial and Commercial Bank of China</td>\n",
       "      <td>252.834</td>\n",
       "    </tr>\n",
       "    <tr>\n",
       "      <th>2</th>\n",
       "      <td>Bank of America</td>\n",
       "      <td>238.272</td>\n",
       "    </tr>\n",
       "    <tr>\n",
       "      <th>3</th>\n",
       "      <td>Wells Fargo</td>\n",
       "      <td>225.588</td>\n",
       "    </tr>\n",
       "    <tr>\n",
       "      <th>4</th>\n",
       "      <td>China Construction Bank</td>\n",
       "      <td>188.519</td>\n",
       "    </tr>\n",
       "    <tr>\n",
       "      <th>...</th>\n",
       "      <td>...</td>\n",
       "      <td>...</td>\n",
       "    </tr>\n",
       "    <tr>\n",
       "      <th>65</th>\n",
       "      <td>Ping An Bank</td>\n",
       "      <td>27.826</td>\n",
       "    </tr>\n",
       "    <tr>\n",
       "      <th>66</th>\n",
       "      <td>Standard Chartered</td>\n",
       "      <td>27.332</td>\n",
       "    </tr>\n",
       "    <tr>\n",
       "      <th>67</th>\n",
       "      <td>United Overseas Bank</td>\n",
       "      <td>25.728</td>\n",
       "    </tr>\n",
       "    <tr>\n",
       "      <th>68</th>\n",
       "      <td>QNB Group</td>\n",
       "      <td>24.579</td>\n",
       "    </tr>\n",
       "    <tr>\n",
       "      <th>69</th>\n",
       "      <td>Bank Rakyat</td>\n",
       "      <td>24.228</td>\n",
       "    </tr>\n",
       "  </tbody>\n",
       "</table>\n",
       "<p>70 rows × 2 columns</p>\n",
       "</div>"
      ],
      "text/plain": [
       "                                       Name  Market Cap (GBP$ Billion)\n",
       "0                            JPMorgan Chase                    286.319\n",
       "1   Industrial and Commercial Bank of China                    252.834\n",
       "2                           Bank of America                    238.272\n",
       "3                               Wells Fargo                    225.588\n",
       "4                   China Construction Bank                    188.519\n",
       "..                                      ...                        ...\n",
       "65                             Ping An Bank                     27.826\n",
       "66                       Standard Chartered                     27.332\n",
       "67                     United Overseas Bank                     25.728\n",
       "68                                QNB Group                     24.579\n",
       "69                              Bank Rakyat                     24.228\n",
       "\n",
       "[70 rows x 2 columns]"
      ]
     },
     "execution_count": 9,
     "metadata": {},
     "output_type": "execute_result"
    }
   ],
   "source": [
    "transform(extract_from_json_to_df(\"C:/Users/emers/Downloads/final_assignment/\"), 0.732398)"
   ]
  },
  {
   "cell_type": "markdown",
   "id": "0ff6f280",
   "metadata": {},
   "source": [
    "**Load:**\n",
    "\n",
    "\n",
    "Create a function that takes a dataframe and load it to a csv named bank_market_cap_gbp.csv. Make sure to set index to False."
   ]
  },
  {
   "cell_type": "code",
   "execution_count": 10,
   "id": "e872c095",
   "metadata": {},
   "outputs": [],
   "source": [
    " def load(df):\n",
    "        df.to_csv(\"C:/Users/emers/Downloads/final_assignment/bank_market_cap_gbp.csv\")"
   ]
  },
  {
   "cell_type": "code",
   "execution_count": 11,
   "id": "21580bef",
   "metadata": {},
   "outputs": [],
   "source": [
    "load(extract_from_json_to_df(\"C:/Users/emers/Downloads/final_assignment/\"))"
   ]
  },
  {
   "cell_type": "markdown",
   "id": "1db4e44d",
   "metadata": {},
   "source": [
    "**LOGGING:**"
   ]
  },
  {
   "cell_type": "code",
   "execution_count": 12,
   "id": "b31021d6",
   "metadata": {},
   "outputs": [],
   "source": [
    "def log(msg):\n",
    "    time_stamp_format = \"%Y-%h-%d-%H:%M-%S\"  # Year-Month-Day-Hour:Minute:Second format\\\n",
    "    now = datetime.now()  # the current date time\n",
    "    time_stamp = now.strftime(time_stamp_format)\n",
    "    \n",
    "    with open(\"C:/Users/emers/Downloads/final_assignment/log_msg_file.txt\",\"a\") as f:  # the function \"open\" opens a file-it creates one if it does not exist-. The mode \"a\" appends in the file\n",
    "        f.write(time_stamp + \" - \" + msg + \"\\n\")"
   ]
  },
  {
   "cell_type": "markdown",
   "id": "a40754b5",
   "metadata": {},
   "source": [
    "### Running the ETL Process"
   ]
  },
  {
   "cell_type": "code",
   "execution_count": 13,
   "id": "ac91df0f",
   "metadata": {},
   "outputs": [],
   "source": [
    "log(\"ETL Job Started\")"
   ]
  },
  {
   "cell_type": "code",
   "execution_count": 14,
   "id": "2419b0ba",
   "metadata": {},
   "outputs": [
    {
     "data": {
      "text/html": [
       "<div>\n",
       "<style scoped>\n",
       "    .dataframe tbody tr th:only-of-type {\n",
       "        vertical-align: middle;\n",
       "    }\n",
       "\n",
       "    .dataframe tbody tr th {\n",
       "        vertical-align: top;\n",
       "    }\n",
       "\n",
       "    .dataframe thead th {\n",
       "        text-align: right;\n",
       "    }\n",
       "</style>\n",
       "<table border=\"1\" class=\"dataframe\">\n",
       "  <thead>\n",
       "    <tr style=\"text-align: right;\">\n",
       "      <th></th>\n",
       "      <th>Name</th>\n",
       "      <th>Market Cap (US$ Billion)</th>\n",
       "    </tr>\n",
       "  </thead>\n",
       "  <tbody>\n",
       "    <tr>\n",
       "      <th>0</th>\n",
       "      <td>JPMorgan Chase</td>\n",
       "      <td>390.934</td>\n",
       "    </tr>\n",
       "    <tr>\n",
       "      <th>1</th>\n",
       "      <td>Industrial and Commercial Bank of China</td>\n",
       "      <td>345.214</td>\n",
       "    </tr>\n",
       "    <tr>\n",
       "      <th>2</th>\n",
       "      <td>Bank of America</td>\n",
       "      <td>325.331</td>\n",
       "    </tr>\n",
       "    <tr>\n",
       "      <th>3</th>\n",
       "      <td>Wells Fargo</td>\n",
       "      <td>308.013</td>\n",
       "    </tr>\n",
       "    <tr>\n",
       "      <th>4</th>\n",
       "      <td>China Construction Bank</td>\n",
       "      <td>257.399</td>\n",
       "    </tr>\n",
       "  </tbody>\n",
       "</table>\n",
       "</div>"
      ],
      "text/plain": [
       "                                      Name  Market Cap (US$ Billion)\n",
       "0                           JPMorgan Chase                   390.934\n",
       "1  Industrial and Commercial Bank of China                   345.214\n",
       "2                          Bank of America                   325.331\n",
       "3                              Wells Fargo                   308.013\n",
       "4                  China Construction Bank                   257.399"
      ]
     },
     "execution_count": 14,
     "metadata": {},
     "output_type": "execute_result"
    }
   ],
   "source": [
    "## EXTRACT:\n",
    "\n",
    "log(\"Extract phase started\")\n",
    "df_USD = extract_from_json_to_df(\"C:/Users/emers/Downloads/final_assignment/\")\n",
    "log(\"Extract phase ended\")\n",
    "df_USD.head(5)"
   ]
  },
  {
   "cell_type": "code",
   "execution_count": 15,
   "id": "a08f43d6",
   "metadata": {},
   "outputs": [
    {
     "data": {
      "text/html": [
       "<div>\n",
       "<style scoped>\n",
       "    .dataframe tbody tr th:only-of-type {\n",
       "        vertical-align: middle;\n",
       "    }\n",
       "\n",
       "    .dataframe tbody tr th {\n",
       "        vertical-align: top;\n",
       "    }\n",
       "\n",
       "    .dataframe thead th {\n",
       "        text-align: right;\n",
       "    }\n",
       "</style>\n",
       "<table border=\"1\" class=\"dataframe\">\n",
       "  <thead>\n",
       "    <tr style=\"text-align: right;\">\n",
       "      <th></th>\n",
       "      <th>Name</th>\n",
       "      <th>Market Cap (GBP$ Billion)</th>\n",
       "    </tr>\n",
       "  </thead>\n",
       "  <tbody>\n",
       "    <tr>\n",
       "      <th>0</th>\n",
       "      <td>JPMorgan Chase</td>\n",
       "      <td>286.319</td>\n",
       "    </tr>\n",
       "    <tr>\n",
       "      <th>1</th>\n",
       "      <td>Industrial and Commercial Bank of China</td>\n",
       "      <td>252.834</td>\n",
       "    </tr>\n",
       "    <tr>\n",
       "      <th>2</th>\n",
       "      <td>Bank of America</td>\n",
       "      <td>238.272</td>\n",
       "    </tr>\n",
       "    <tr>\n",
       "      <th>3</th>\n",
       "      <td>Wells Fargo</td>\n",
       "      <td>225.588</td>\n",
       "    </tr>\n",
       "    <tr>\n",
       "      <th>4</th>\n",
       "      <td>China Construction Bank</td>\n",
       "      <td>188.519</td>\n",
       "    </tr>\n",
       "  </tbody>\n",
       "</table>\n",
       "</div>"
      ],
      "text/plain": [
       "                                      Name  Market Cap (GBP$ Billion)\n",
       "0                           JPMorgan Chase                    286.319\n",
       "1  Industrial and Commercial Bank of China                    252.834\n",
       "2                          Bank of America                    238.272\n",
       "3                              Wells Fargo                    225.588\n",
       "4                  China Construction Bank                    188.519"
      ]
     },
     "execution_count": 15,
     "metadata": {},
     "output_type": "execute_result"
    }
   ],
   "source": [
    "# TRANSFORM:\n",
    "\n",
    "log(\"Transform phase started\")\n",
    "usd_to_gbp = 0.732398\n",
    "df_GBP = transform(df_USD, usd_to_gbp)\n",
    "log(\"Transform phase ended\")\n",
    "\n",
    "df_GBP.head()"
   ]
  },
  {
   "cell_type": "code",
   "execution_count": 16,
   "id": "a44cbd3c",
   "metadata": {},
   "outputs": [],
   "source": [
    "# LOAD:\n",
    "\n",
    "log(\"Load phase started\")\n",
    "load(df_GBP)\n",
    "log(\"Load phase ended\")"
   ]
  },
  {
   "cell_type": "code",
   "execution_count": null,
   "id": "2091d5e9",
   "metadata": {},
   "outputs": [],
   "source": []
  },
  {
   "cell_type": "markdown",
   "id": "f72897af",
   "metadata": {},
   "source": [
    "### Author:\n",
    "- name: `Emerson Goncalves`\n",
    "- date: 2022.07.26"
   ]
  },
  {
   "cell_type": "code",
   "execution_count": 17,
   "id": "5a5e2585",
   "metadata": {},
   "outputs": [
    {
     "data": {
      "text/plain": [
       "datetime.datetime(2022, 7, 26, 19, 26, 18, 884238)"
      ]
     },
     "execution_count": 17,
     "metadata": {},
     "output_type": "execute_result"
    }
   ],
   "source": [
    "datetime.now()"
   ]
  },
  {
   "cell_type": "code",
   "execution_count": null,
   "id": "823085f3",
   "metadata": {},
   "outputs": [],
   "source": []
  }
 ],
 "metadata": {
  "kernelspec": {
   "display_name": "Python 3 (ipykernel)",
   "language": "python",
   "name": "python3"
  },
  "language_info": {
   "codemirror_mode": {
    "name": "ipython",
    "version": 3
   },
   "file_extension": ".py",
   "mimetype": "text/x-python",
   "name": "python",
   "nbconvert_exporter": "python",
   "pygments_lexer": "ipython3",
   "version": "3.9.7"
  }
 },
 "nbformat": 4,
 "nbformat_minor": 5
}
