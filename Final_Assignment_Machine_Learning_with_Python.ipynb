{
 "cells": [
  {
   "cell_type": "markdown",
   "id": "9179fca1",
   "metadata": {},
   "source": [
    "This notebook contains the final assignment of the cursera's course: `Machine Learning with Python`"
   ]
  },
  {
   "cell_type": "markdown",
   "id": "1b55fefb",
   "metadata": {},
   "source": [
    "**Final Assignment**\n",
    "<br/> Author: Emerson Goncalves\n",
    "<h1 align='center'><font size='4'> Classification with Python </font></h1> "
   ]
  },
  {
   "cell_type": "markdown",
   "id": "cf29405b",
   "metadata": {},
   "source": [
    "OBJECTIVES:\n",
    "- Use loans dataset alongside with machine learningn algorights to say whether a loan will default.\n",
    "- Expeted Machine learning algorithms:\n",
    "    - Decision Tree\n",
    "    - k-nearest Neighbour\n",
    "    - Support Vector Machine\n",
    "    - Logistic Regression\n",
    "- Metrics to access the performance of the models:\n",
    "    - Jaccard Index\n",
    "    - F1-score\n",
    "    - Log Loass"
   ]
  },
  {
   "cell_type": "markdown",
   "id": "945a7b1a",
   "metadata": {},
   "source": [
    "Loading packages"
   ]
  },
  {
   "cell_type": "code",
   "execution_count": 1,
   "id": "56573dc4",
   "metadata": {},
   "outputs": [
    {
     "name": "stderr",
     "output_type": "stream",
     "text": [
      "C:\\Users\\emers\\anaconda3\\lib\\site-packages\\scipy\\__init__.py:146: UserWarning: A NumPy version >=1.16.5 and <1.23.0 is required for this version of SciPy (detected version 1.23.2\n",
      "  warnings.warn(f\"A NumPy version >={np_minversion} and <{np_maxversion}\"\n"
     ]
    }
   ],
   "source": [
    "import itertools\n",
    "\n",
    "import pandas as pd\n",
    "import numpy as np\n",
    "\n",
    "\n",
    "import matplotlib.pyplot as plt\n",
    "\n",
    "from matplotlib.ticker import NullFormatter\n",
    "\n",
    "import matplotlib.ticker as ticker\n",
    "\n",
    "\n",
    "from sklearn import preprocessing"
   ]
  },
  {
   "cell_type": "code",
   "execution_count": null,
   "id": "77468b64",
   "metadata": {},
   "outputs": [],
   "source": []
  },
  {
   "cell_type": "markdown",
   "id": "c1bf379d",
   "metadata": {},
   "source": [
    "Load dataset"
   ]
  },
  {
   "cell_type": "code",
   "execution_count": 2,
   "id": "ddb925e5",
   "metadata": {},
   "outputs": [
    {
     "data": {
      "text/html": [
       "<div>\n",
       "<style scoped>\n",
       "    .dataframe tbody tr th:only-of-type {\n",
       "        vertical-align: middle;\n",
       "    }\n",
       "\n",
       "    .dataframe tbody tr th {\n",
       "        vertical-align: top;\n",
       "    }\n",
       "\n",
       "    .dataframe thead th {\n",
       "        text-align: right;\n",
       "    }\n",
       "</style>\n",
       "<table border=\"1\" class=\"dataframe\">\n",
       "  <thead>\n",
       "    <tr style=\"text-align: right;\">\n",
       "      <th></th>\n",
       "      <th>Unnamed: 0.1</th>\n",
       "      <th>Unnamed: 0</th>\n",
       "      <th>loan_status</th>\n",
       "      <th>Principal</th>\n",
       "      <th>terms</th>\n",
       "      <th>effective_date</th>\n",
       "      <th>due_date</th>\n",
       "      <th>age</th>\n",
       "      <th>education</th>\n",
       "      <th>Gender</th>\n",
       "    </tr>\n",
       "  </thead>\n",
       "  <tbody>\n",
       "    <tr>\n",
       "      <th>0</th>\n",
       "      <td>0</td>\n",
       "      <td>0</td>\n",
       "      <td>PAIDOFF</td>\n",
       "      <td>1000</td>\n",
       "      <td>30</td>\n",
       "      <td>9/8/2016</td>\n",
       "      <td>10/7/2016</td>\n",
       "      <td>45</td>\n",
       "      <td>High School or Below</td>\n",
       "      <td>male</td>\n",
       "    </tr>\n",
       "    <tr>\n",
       "      <th>1</th>\n",
       "      <td>2</td>\n",
       "      <td>2</td>\n",
       "      <td>PAIDOFF</td>\n",
       "      <td>1000</td>\n",
       "      <td>30</td>\n",
       "      <td>9/8/2016</td>\n",
       "      <td>10/7/2016</td>\n",
       "      <td>33</td>\n",
       "      <td>Bechalor</td>\n",
       "      <td>female</td>\n",
       "    </tr>\n",
       "    <tr>\n",
       "      <th>2</th>\n",
       "      <td>3</td>\n",
       "      <td>3</td>\n",
       "      <td>PAIDOFF</td>\n",
       "      <td>1000</td>\n",
       "      <td>15</td>\n",
       "      <td>9/8/2016</td>\n",
       "      <td>9/22/2016</td>\n",
       "      <td>27</td>\n",
       "      <td>college</td>\n",
       "      <td>male</td>\n",
       "    </tr>\n",
       "  </tbody>\n",
       "</table>\n",
       "</div>"
      ],
      "text/plain": [
       "   Unnamed: 0.1  Unnamed: 0 loan_status  Principal  terms effective_date  \\\n",
       "0             0           0     PAIDOFF       1000     30       9/8/2016   \n",
       "1             2           2     PAIDOFF       1000     30       9/8/2016   \n",
       "2             3           3     PAIDOFF       1000     15       9/8/2016   \n",
       "\n",
       "    due_date  age             education  Gender  \n",
       "0  10/7/2016   45  High School or Below    male  \n",
       "1  10/7/2016   33              Bechalor  female  \n",
       "2  9/22/2016   27               college    male  "
      ]
     },
     "execution_count": 2,
     "metadata": {},
     "output_type": "execute_result"
    }
   ],
   "source": [
    "link = 'https://cf-courses-data.s3.us.cloud-object-storage.appdomain.cloud/IBMDeveloperSkillsNetwork-ML0101EN-SkillsNetwork/labs/FinalModule_Coursera/data/loan_train.csv'\n",
    "\n",
    "data = pd.read_csv(link)\n",
    "data.head(3)"
   ]
  },
  {
   "cell_type": "markdown",
   "id": "fb0680d7",
   "metadata": {},
   "source": [
    "Data Wrangling"
   ]
  },
  {
   "cell_type": "code",
   "execution_count": 3,
   "id": "88b74f58",
   "metadata": {},
   "outputs": [],
   "source": [
    "# Converting the date columns to date type\n",
    "\n",
    "data['effective_date'] = pd.to_datetime(data['effective_date'])\n",
    "data['due_date'] = pd.to_datetime(data['due_date'])"
   ]
  },
  {
   "cell_type": "code",
   "execution_count": 4,
   "id": "dee0be47",
   "metadata": {
    "scrolled": true
   },
   "outputs": [
    {
     "data": {
      "text/html": [
       "<div>\n",
       "<style scoped>\n",
       "    .dataframe tbody tr th:only-of-type {\n",
       "        vertical-align: middle;\n",
       "    }\n",
       "\n",
       "    .dataframe tbody tr th {\n",
       "        vertical-align: top;\n",
       "    }\n",
       "\n",
       "    .dataframe thead th {\n",
       "        text-align: right;\n",
       "    }\n",
       "</style>\n",
       "<table border=\"1\" class=\"dataframe\">\n",
       "  <thead>\n",
       "    <tr style=\"text-align: right;\">\n",
       "      <th></th>\n",
       "      <th>Unnamed: 0.1</th>\n",
       "      <th>Unnamed: 0</th>\n",
       "      <th>Principal</th>\n",
       "      <th>terms</th>\n",
       "      <th>effective_date</th>\n",
       "      <th>due_date</th>\n",
       "      <th>age</th>\n",
       "      <th>education</th>\n",
       "      <th>Gender</th>\n",
       "    </tr>\n",
       "    <tr>\n",
       "      <th>loan_status</th>\n",
       "      <th></th>\n",
       "      <th></th>\n",
       "      <th></th>\n",
       "      <th></th>\n",
       "      <th></th>\n",
       "      <th></th>\n",
       "      <th></th>\n",
       "      <th></th>\n",
       "      <th></th>\n",
       "    </tr>\n",
       "  </thead>\n",
       "  <tbody>\n",
       "    <tr>\n",
       "      <th>COLLECTION</th>\n",
       "      <td>86</td>\n",
       "      <td>86</td>\n",
       "      <td>86</td>\n",
       "      <td>86</td>\n",
       "      <td>86</td>\n",
       "      <td>86</td>\n",
       "      <td>86</td>\n",
       "      <td>86</td>\n",
       "      <td>86</td>\n",
       "    </tr>\n",
       "    <tr>\n",
       "      <th>PAIDOFF</th>\n",
       "      <td>260</td>\n",
       "      <td>260</td>\n",
       "      <td>260</td>\n",
       "      <td>260</td>\n",
       "      <td>260</td>\n",
       "      <td>260</td>\n",
       "      <td>260</td>\n",
       "      <td>260</td>\n",
       "      <td>260</td>\n",
       "    </tr>\n",
       "  </tbody>\n",
       "</table>\n",
       "</div>"
      ],
      "text/plain": [
       "             Unnamed: 0.1  Unnamed: 0  Principal  terms  effective_date  \\\n",
       "loan_status                                                               \n",
       "COLLECTION             86          86         86     86              86   \n",
       "PAIDOFF               260         260        260    260             260   \n",
       "\n",
       "             due_date  age  education  Gender  \n",
       "loan_status                                    \n",
       "COLLECTION         86   86         86      86  \n",
       "PAIDOFF           260  260        260     260  "
      ]
     },
     "execution_count": 4,
     "metadata": {},
     "output_type": "execute_result"
    }
   ],
   "source": [
    " data.groupby(['loan_status']).count()"
   ]
  },
  {
   "cell_type": "code",
   "execution_count": 5,
   "id": "9e4444b4",
   "metadata": {},
   "outputs": [
    {
     "data": {
      "image/png": "[encoded data removed]",
      "text/plain": [
       "<Figure size 432x216 with 2 Axes>"
      ]
     },
     "metadata": {
      "needs_background": "light"
     },
     "output_type": "display_data"
    }
   ],
   "source": [
    "import seaborn as sns\n",
    "\n",
    "bins = np.linspace(data.Principal.min(), data.Principal.max(), 10)\n",
    "g = sns.FacetGrid(data, col=\"Gender\", hue=\"loan_status\", palette=\"Set1\", col_wrap=2)\n",
    "g.map(plt.hist, 'Principal', bins=bins, ec=\"k\")\n",
    "\n",
    "g.axes[-1].legend()\n",
    "plt.show()"
   ]
  },
  {
   "cell_type": "code",
   "execution_count": 6,
   "id": "704e084d",
   "metadata": {
    "scrolled": true
   },
   "outputs": [
    {
     "data": {
      "image/png": "[encoded data removed]",
      "text/plain": [
       "<Figure size 432x216 with 2 Axes>"
      ]
     },
     "metadata": {
      "needs_background": "light"
     },
     "output_type": "display_data"
    }
   ],
   "source": [
    "bins = np.linspace(data.age.min(), data.age.max(), 10)\n",
    "g = sns.FacetGrid(data, col=\"Gender\", hue=\"loan_status\", palette=\"Set1\", col_wrap=2)\n",
    "g.map(plt.hist, 'age', bins=bins, ec=\"k\")\n",
    "\n",
    "g.axes[-1].legend()\n",
    "plt.show()"
   ]
  },
  {
   "cell_type": "markdown",
   "id": "ffb9c96d",
   "metadata": {},
   "source": [
    "**Pre-processing: Feature Selection/Extraction**"
   ]
  },
  {
   "cell_type": "code",
   "execution_count": 7,
   "id": "d544d8f3",
   "metadata": {},
   "outputs": [
    {
     "data": {
      "image/png": "[encoded data removed]",
      "text/plain": [
       "<Figure size 432x216 with 2 Axes>"
      ]
     },
     "metadata": {
      "needs_background": "light"
     },
     "output_type": "display_data"
    }
   ],
   "source": [
    "# Selection of what day of the week people get the loan.\n",
    "data['dayofweek'] = data['effective_date'].dt.dayofweek\n",
    "\n",
    "bins = np.linspace(data.dayofweek.min(), data.dayofweek.max(), 10)\n",
    "g = sns.FacetGrid(data, col=\"Gender\", hue=\"loan_status\", palette=\"Set1\", col_wrap=2)\n",
    "g.map(plt.hist, 'dayofweek', bins=bins, ec=\"k\")\n",
    "g.axes[-1].legend()\n",
    "plt.show()"
   ]
  },
  {
   "cell_type": "markdown",
   "id": "2a07160d",
   "metadata": {},
   "source": [
    "Based on the charts above, loans that are taken on the weeked, are not paid off."
   ]
  },
  {
   "cell_type": "code",
   "execution_count": 8,
   "id": "d85eae9f",
   "metadata": {},
   "outputs": [
    {
     "data": {
      "text/html": [
       "<div>\n",
       "<style scoped>\n",
       "    .dataframe tbody tr th:only-of-type {\n",
       "        vertical-align: middle;\n",
       "    }\n",
       "\n",
       "    .dataframe tbody tr th {\n",
       "        vertical-align: top;\n",
       "    }\n",
       "\n",
       "    .dataframe thead th {\n",
       "        text-align: right;\n",
       "    }\n",
       "</style>\n",
       "<table border=\"1\" class=\"dataframe\">\n",
       "  <thead>\n",
       "    <tr style=\"text-align: right;\">\n",
       "      <th></th>\n",
       "      <th>Unnamed: 0.1</th>\n",
       "      <th>Unnamed: 0</th>\n",
       "      <th>loan_status</th>\n",
       "      <th>Principal</th>\n",
       "      <th>terms</th>\n",
       "      <th>effective_date</th>\n",
       "      <th>due_date</th>\n",
       "      <th>age</th>\n",
       "      <th>education</th>\n",
       "      <th>Gender</th>\n",
       "      <th>dayofweek</th>\n",
       "      <th>weekend</th>\n",
       "    </tr>\n",
       "  </thead>\n",
       "  <tbody>\n",
       "    <tr>\n",
       "      <th>0</th>\n",
       "      <td>0</td>\n",
       "      <td>0</td>\n",
       "      <td>PAIDOFF</td>\n",
       "      <td>1000</td>\n",
       "      <td>30</td>\n",
       "      <td>2016-09-08</td>\n",
       "      <td>2016-10-07</td>\n",
       "      <td>45</td>\n",
       "      <td>High School or Below</td>\n",
       "      <td>male</td>\n",
       "      <td>3</td>\n",
       "      <td>0</td>\n",
       "    </tr>\n",
       "    <tr>\n",
       "      <th>1</th>\n",
       "      <td>2</td>\n",
       "      <td>2</td>\n",
       "      <td>PAIDOFF</td>\n",
       "      <td>1000</td>\n",
       "      <td>30</td>\n",
       "      <td>2016-09-08</td>\n",
       "      <td>2016-10-07</td>\n",
       "      <td>33</td>\n",
       "      <td>Bechalor</td>\n",
       "      <td>female</td>\n",
       "      <td>3</td>\n",
       "      <td>0</td>\n",
       "    </tr>\n",
       "    <tr>\n",
       "      <th>2</th>\n",
       "      <td>3</td>\n",
       "      <td>3</td>\n",
       "      <td>PAIDOFF</td>\n",
       "      <td>1000</td>\n",
       "      <td>15</td>\n",
       "      <td>2016-09-08</td>\n",
       "      <td>2016-09-22</td>\n",
       "      <td>27</td>\n",
       "      <td>college</td>\n",
       "      <td>male</td>\n",
       "      <td>3</td>\n",
       "      <td>0</td>\n",
       "    </tr>\n",
       "    <tr>\n",
       "      <th>3</th>\n",
       "      <td>4</td>\n",
       "      <td>4</td>\n",
       "      <td>PAIDOFF</td>\n",
       "      <td>1000</td>\n",
       "      <td>30</td>\n",
       "      <td>2016-09-09</td>\n",
       "      <td>2016-10-08</td>\n",
       "      <td>28</td>\n",
       "      <td>college</td>\n",
       "      <td>female</td>\n",
       "      <td>4</td>\n",
       "      <td>1</td>\n",
       "    </tr>\n",
       "    <tr>\n",
       "      <th>4</th>\n",
       "      <td>6</td>\n",
       "      <td>6</td>\n",
       "      <td>PAIDOFF</td>\n",
       "      <td>1000</td>\n",
       "      <td>30</td>\n",
       "      <td>2016-09-09</td>\n",
       "      <td>2016-10-08</td>\n",
       "      <td>29</td>\n",
       "      <td>college</td>\n",
       "      <td>male</td>\n",
       "      <td>4</td>\n",
       "      <td>1</td>\n",
       "    </tr>\n",
       "  </tbody>\n",
       "</table>\n",
       "</div>"
      ],
      "text/plain": [
       "   Unnamed: 0.1  Unnamed: 0 loan_status  Principal  terms effective_date  \\\n",
       "0             0           0     PAIDOFF       1000     30     2016-09-08   \n",
       "1             2           2     PAIDOFF       1000     30     2016-09-08   \n",
       "2             3           3     PAIDOFF       1000     15     2016-09-08   \n",
       "3             4           4     PAIDOFF       1000     30     2016-09-09   \n",
       "4             6           6     PAIDOFF       1000     30     2016-09-09   \n",
       "\n",
       "    due_date  age             education  Gender  dayofweek  weekend  \n",
       "0 2016-10-07   45  High School or Below    male          3        0  \n",
       "1 2016-10-07   33              Bechalor  female          3        0  \n",
       "2 2016-09-22   27               college    male          3        0  \n",
       "3 2016-10-08   28               college  female          4        1  \n",
       "4 2016-10-08   29               college    male          4        1  "
      ]
     },
     "execution_count": 8,
     "metadata": {},
     "output_type": "execute_result"
    }
   ],
   "source": [
    "# This creates a column to say whether the day is weekend or not.\n",
    "\n",
    "data['weekend'] = data['dayofweek'].apply(lambda x:1 if (x>3) else 0)\n",
    "data.head(5)"
   ]
  },
  {
   "cell_type": "markdown",
   "id": "84f75ca3",
   "metadata": {},
   "source": [
    "Converting categorical attributes to numerial booleans values:"
   ]
  },
  {
   "cell_type": "markdown",
   "id": "38d95c88",
   "metadata": {},
   "source": [
    "Gender"
   ]
  },
  {
   "cell_type": "code",
   "execution_count": 9,
   "id": "9add5b47",
   "metadata": {},
   "outputs": [
    {
     "data": {
      "text/plain": [
       "Gender  loan_status\n",
       "female  PAIDOFF        0.865385\n",
       "        COLLECTION     0.134615\n",
       "male    PAIDOFF        0.731293\n",
       "        COLLECTION     0.268707\n",
       "Name: loan_status, dtype: float64"
      ]
     },
     "execution_count": 9,
     "metadata": {},
     "output_type": "execute_result"
    }
   ],
   "source": [
    "# Checking the gender:\n",
    "\n",
    "data.groupby(['Gender'])['loan_status'].value_counts(normalize=True)"
   ]
  },
  {
   "cell_type": "code",
   "execution_count": 10,
   "id": "163f131c",
   "metadata": {},
   "outputs": [],
   "source": [
    "# GENDER:\n",
    "#  Converting male to 0 and famale to 1:\n",
    "\n",
    "data['Gender'].replace(to_replace = ['male','female'], value = [0,1], inplace = True)"
   ]
  },
  {
   "cell_type": "markdown",
   "id": "16f2a0b2",
   "metadata": {},
   "source": [
    "Education"
   ]
  },
  {
   "cell_type": "code",
   "execution_count": 11,
   "id": "2683ee85",
   "metadata": {},
   "outputs": [
    {
     "data": {
      "text/plain": [
       "education             loan_status\n",
       "Bechalor              PAIDOFF        0.750000\n",
       "                      COLLECTION     0.250000\n",
       "High School or Below  PAIDOFF        0.741722\n",
       "                      COLLECTION     0.258278\n",
       "Master or Above       COLLECTION     0.500000\n",
       "                      PAIDOFF        0.500000\n",
       "college               PAIDOFF        0.765101\n",
       "                      COLLECTION     0.234899\n",
       "Name: loan_status, dtype: float64"
      ]
     },
     "execution_count": 11,
     "metadata": {},
     "output_type": "execute_result"
    }
   ],
   "source": [
    "data.groupby(['education'])['loan_status'].value_counts(normalize = True)"
   ]
  },
  {
   "cell_type": "markdown",
   "id": "12a70a23",
   "metadata": {},
   "source": [
    "Education attribute can assume 4 labels : `Bachelor,high school or below, Master or above, college`.\n",
    "In order to use this attribute, let us use hot encoding to transform these 4 labels into columns ans assign them 0 or 1 values."
   ]
  },
  {
   "cell_type": "code",
   "execution_count": 12,
   "id": "b4e3925b",
   "metadata": {},
   "outputs": [
    {
     "data": {
      "text/html": [
       "<div>\n",
       "<style scoped>\n",
       "    .dataframe tbody tr th:only-of-type {\n",
       "        vertical-align: middle;\n",
       "    }\n",
       "\n",
       "    .dataframe tbody tr th {\n",
       "        vertical-align: top;\n",
       "    }\n",
       "\n",
       "    .dataframe thead th {\n",
       "        text-align: right;\n",
       "    }\n",
       "</style>\n",
       "<table border=\"1\" class=\"dataframe\">\n",
       "  <thead>\n",
       "    <tr style=\"text-align: right;\">\n",
       "      <th></th>\n",
       "      <th>Principal</th>\n",
       "      <th>terms</th>\n",
       "      <th>age</th>\n",
       "      <th>Gender</th>\n",
       "      <th>weekend</th>\n",
       "      <th>Bechalor</th>\n",
       "      <th>High School or Below</th>\n",
       "      <th>college</th>\n",
       "    </tr>\n",
       "  </thead>\n",
       "  <tbody>\n",
       "    <tr>\n",
       "      <th>0</th>\n",
       "      <td>1000</td>\n",
       "      <td>30</td>\n",
       "      <td>45</td>\n",
       "      <td>0</td>\n",
       "      <td>0</td>\n",
       "      <td>0</td>\n",
       "      <td>1</td>\n",
       "      <td>0</td>\n",
       "    </tr>\n",
       "    <tr>\n",
       "      <th>1</th>\n",
       "      <td>1000</td>\n",
       "      <td>30</td>\n",
       "      <td>33</td>\n",
       "      <td>1</td>\n",
       "      <td>0</td>\n",
       "      <td>1</td>\n",
       "      <td>0</td>\n",
       "      <td>0</td>\n",
       "    </tr>\n",
       "    <tr>\n",
       "      <th>2</th>\n",
       "      <td>1000</td>\n",
       "      <td>15</td>\n",
       "      <td>27</td>\n",
       "      <td>0</td>\n",
       "      <td>0</td>\n",
       "      <td>0</td>\n",
       "      <td>0</td>\n",
       "      <td>1</td>\n",
       "    </tr>\n",
       "    <tr>\n",
       "      <th>3</th>\n",
       "      <td>1000</td>\n",
       "      <td>30</td>\n",
       "      <td>28</td>\n",
       "      <td>1</td>\n",
       "      <td>1</td>\n",
       "      <td>0</td>\n",
       "      <td>0</td>\n",
       "      <td>1</td>\n",
       "    </tr>\n",
       "    <tr>\n",
       "      <th>4</th>\n",
       "      <td>1000</td>\n",
       "      <td>30</td>\n",
       "      <td>29</td>\n",
       "      <td>0</td>\n",
       "      <td>1</td>\n",
       "      <td>0</td>\n",
       "      <td>0</td>\n",
       "      <td>1</td>\n",
       "    </tr>\n",
       "  </tbody>\n",
       "</table>\n",
       "</div>"
      ],
      "text/plain": [
       "   Principal  terms  age  Gender  weekend  Bechalor  High School or Below  \\\n",
       "0       1000     30   45       0        0         0                     1   \n",
       "1       1000     30   33       1        0         1                     0   \n",
       "2       1000     15   27       0        0         0                     0   \n",
       "3       1000     30   28       1        1         0                     0   \n",
       "4       1000     30   29       0        1         0                     0   \n",
       "\n",
       "   college  \n",
       "0        0  \n",
       "1        0  \n",
       "2        1  \n",
       "3        1  \n",
       "4        1  "
      ]
     },
     "execution_count": 12,
     "metadata": {},
     "output_type": "execute_result"
    }
   ],
   "source": [
    "# Getting the education attribute transformed into for 4 columns:\n",
    "\n",
    "ed = pd.get_dummies(data['education'])\n",
    "\n",
    "# Dropping the 'Master or Above' column:\n",
    "ed.drop(['Master or Above'], axis = 1, inplace = True)\n",
    "\n",
    "# Merging the new education collumns into the dataframa that will store the features data\n",
    "\n",
    "feature = data[['Principal','terms','age','Gender','weekend']]\n",
    "x = pd.concat([feature, ed], axis = 1)\n",
    "\n",
    "x.head(5)"
   ]
  },
  {
   "cell_type": "code",
   "execution_count": 13,
   "id": "719e0ca4",
   "metadata": {},
   "outputs": [],
   "source": [
    "y = data['loan_status'].values"
   ]
  },
  {
   "cell_type": "markdown",
   "id": "5f97c766",
   "metadata": {},
   "source": [
    "**Normalize Data**\n",
    "<br/> Data standardization give data zero  mean and unit variance."
   ]
  },
  {
   "cell_type": "code",
   "execution_count": 14,
   "id": "42ec8874",
   "metadata": {},
   "outputs": [],
   "source": [
    "X = preprocessing.StandardScaler().fit(x).transform(x)"
   ]
  },
  {
   "cell_type": "markdown",
   "id": "ec77925c",
   "metadata": {},
   "source": [
    "## Classification"
   ]
  },
  {
   "cell_type": "markdown",
   "id": "603f1be2",
   "metadata": {},
   "source": [
    "Use the training set to build an accurate model. Then use the test set to report the accuracy of the model. Use the following algorithm:\n",
    "\n",
    "- K Nearest Neighbor(KNN)\n",
    "- Decision Tree\n",
    "- Support Vector Machine\n",
    "- Logistic Regression\n",
    "\n",
    "__ Notice:__\n",
    "\n",
    "The pre-processing, feature selection, feature-extraction, and so on, can be changed to make a better model.\n",
    "Use either scikit-learn, Scipy or Numpy libraries for developing the classification algorithms."
   ]
  },
  {
   "cell_type": "markdown",
   "id": "a60fe44e",
   "metadata": {},
   "source": [
    "#### 1 - K Nearest Neighbor(KNN)\n",
    "\n",
    "<br/>CONCEPT:\n",
    "<br/> KNN is a classifier algorithm that takes labels points to classify an unlabeled point based on its nearest neighbours.\n",
    "<br/> `n` is the number of most near neighbours being considered in the classification."
   ]
  },
  {
   "cell_type": "markdown",
   "id": "b42f60b5",
   "metadata": {},
   "source": [
    "<br/> Notice: Find the best k to build the model with the best accuracy.\n",
    "<br/> warning: Do not use the loan_test.csv for finding the best k, however, you can split your train_loan.csv into train and test to find the best k."
   ]
  },
  {
   "cell_type": "code",
   "execution_count": 15,
   "id": "453aa25b",
   "metadata": {},
   "outputs": [],
   "source": [
    "# Loading related Libraries\n",
    "\n",
    "from sklearn.model_selection import train_test_split\n",
    "from sklearn.neighbors import KNeighborsClassifier\n",
    "from sklearn import metrics"
   ]
  },
  {
   "cell_type": "code",
   "execution_count": 16,
   "id": "e3faa211",
   "metadata": {},
   "outputs": [],
   "source": [
    "#  Pre-processing spliting the data into train and  test dataset:\n",
    "\n",
    "x_train, x_test, y_train, y_test = train_test_split(X,y, test_size = .2, random_state = 4)"
   ]
  },
  {
   "cell_type": "code",
   "execution_count": 17,
   "id": "4ac31c7e",
   "metadata": {},
   "outputs": [
    {
     "data": {
      "image/png": "[encoded data removed]",
      "text/plain": [
       "<Figure size 432x288 with 1 Axes>"
      ]
     },
     "metadata": {
      "needs_background": "light"
     },
     "output_type": "display_data"
    }
   ],
   "source": [
    "# TRAINNING K-Nearest Neighbor;\n",
    "\n",
    "knn_score = []\n",
    "\n",
    "# Loop to test different values of K\n",
    "for k in range(1,10):\n",
    "    # Fitting the model\n",
    "    neigh = KNeighborsClassifier(n_neighbors = k).fit(x_train,y_train)\n",
    "    \n",
    "    # Acuracy evaluation/ Out of sample assessment:\n",
    "    score = metrics.accuracy_score(y_test,neigh.predict(x_test))\n",
    "    \n",
    "    # Storing the accuracy values\n",
    "    knn_score.append([k,score])\n",
    "\n",
    "    \n",
    "knn_score = pd.DataFrame(knn_score,columns= ['k','score'])\n",
    "\n",
    "# Plotting of the results:\n",
    "\n",
    "fig, ax = plt.subplots()\n",
    "ax.plot(knn_score.k, knn_score.score)\n",
    "\n",
    "ax.set(xlabel='number_of_neighbors', ylabel='accurary',\n",
    "       title='Accurary of the K-Nearest Neighbor')\n",
    "ax.grid()\n",
    "\n",
    "plt.show()"
   ]
  },
  {
   "cell_type": "code",
   "execution_count": 18,
   "id": "462cbf2a",
   "metadata": {},
   "outputs": [
    {
     "data": {
      "text/html": [
       "<div>\n",
       "<style scoped>\n",
       "    .dataframe tbody tr th:only-of-type {\n",
       "        vertical-align: middle;\n",
       "    }\n",
       "\n",
       "    .dataframe tbody tr th {\n",
       "        vertical-align: top;\n",
       "    }\n",
       "\n",
       "    .dataframe thead th {\n",
       "        text-align: right;\n",
       "    }\n",
       "</style>\n",
       "<table border=\"1\" class=\"dataframe\">\n",
       "  <thead>\n",
       "    <tr style=\"text-align: right;\">\n",
       "      <th></th>\n",
       "      <th>k</th>\n",
       "      <th>score</th>\n",
       "    </tr>\n",
       "  </thead>\n",
       "  <tbody>\n",
       "    <tr>\n",
       "      <th>6</th>\n",
       "      <td>7</td>\n",
       "      <td>0.785714</td>\n",
       "    </tr>\n",
       "  </tbody>\n",
       "</table>\n",
       "</div>"
      ],
      "text/plain": [
       "   k     score\n",
       "6  7  0.785714"
      ]
     },
     "execution_count": 18,
     "metadata": {},
     "output_type": "execute_result"
    }
   ],
   "source": [
    "## FINDING THE BEST 'N' PARAMETER:\n",
    "knn_score[knn_score[\"score\"] == knn_score[\"score\"].max()]"
   ]
  },
  {
   "cell_type": "markdown",
   "id": "f55477df",
   "metadata": {},
   "source": [
    "The best N parameter is, `N=7`"
   ]
  },
  {
   "cell_type": "markdown",
   "id": "ad5b22f2",
   "metadata": {},
   "source": [
    "#### 2 - Decision Tree\n",
    "CONCEPTS:\n",
    "<br/>  The basic intuition behind the desicion tree is to map out the possible decision paths in the form of a tree.\n",
    "<br/> The split of the data is made taking the attribute that when splited will increase the purity of the data and therefore decrease the entropy of the data. "
   ]
  },
  {
   "cell_type": "code",
   "execution_count": 19,
   "id": "b449d690",
   "metadata": {},
   "outputs": [],
   "source": [
    "# Importing the necessary libraries:\n",
    "from sklearn.tree import DecisionTreeClassifier\n",
    "import sklearn.tree as tree"
   ]
  },
  {
   "cell_type": "code",
   "execution_count": 20,
   "id": "43a20a23",
   "metadata": {},
   "outputs": [],
   "source": [
    "# Modeling the Decision Tree:\n",
    "\n",
    "d_tree = []\n",
    "\n",
    "# Fitting the model:\n",
    "d_t = DecisionTreeClassifier(criterion = 'entropy', max_depth = 4).fit(x_train,y_train)\n",
    "    \n",
    "# Out of sample accuracy evaluation: \n",
    "score = metrics.accuracy_score(y_test, d_t.predict(x_test))"
   ]
  },
  {
   "cell_type": "code",
   "execution_count": 21,
   "id": "bc9638b7",
   "metadata": {},
   "outputs": [],
   "source": [
    "# FINDING THE BEST 'Max Depth' PARAMETER\n",
    "# d_tree[d_tree['accuracy'] == d_tree['accuracy'].max()]"
   ]
  },
  {
   "cell_type": "markdown",
   "id": "479b8b43",
   "metadata": {},
   "source": [
    "The best max depth parameter is `max_depth = 1`"
   ]
  },
  {
   "cell_type": "markdown",
   "id": "a9ce04ac",
   "metadata": {},
   "source": [
    "#### 3- Support Vector Machine"
   ]
  },
  {
   "cell_type": "markdown",
   "id": "083ac01a",
   "metadata": {},
   "source": [
    "The SVM algorithm offers a choice of kernels functions for performing its processing:\n",
    " - Linear\n",
    " - Polynomial\n",
    " - Radial basis Function\n",
    " - Sigmoid\n",
    " \n",
    "<br/>These function are used to map the data into a higher dimensional space.\n",
    "<br/>Each function has its features, pros and cons. There is not easy way to knowing which function fits best the problems being modeled."
   ]
  },
  {
   "cell_type": "code",
   "execution_count": 22,
   "id": "bbb38f96",
   "metadata": {},
   "outputs": [],
   "source": [
    "# Importing the necessary labrary:\n",
    "\n",
    "from sklearn import svm"
   ]
  },
  {
   "cell_type": "code",
   "execution_count": 23,
   "id": "505fc10f",
   "metadata": {},
   "outputs": [
    {
     "data": {
      "text/plain": [
       "0.7428571428571429"
      ]
     },
     "execution_count": 23,
     "metadata": {},
     "output_type": "execute_result"
    }
   ],
   "source": [
    "# FITTING THE MODEL\n",
    "# The kernel function to be used in this modeling is:\n",
    "\n",
    "clf = svm.SVC().fit(x_train,y_train)\n",
    "\n",
    "score = metrics.accuracy_score(y_test,clf.predict(x_test))\n",
    "\n",
    "score"
   ]
  },
  {
   "cell_type": "markdown",
   "id": "ce2c7bba",
   "metadata": {},
   "source": [
    "#### 4- Logistic Regression"
   ]
  },
  {
   "cell_type": "code",
   "execution_count": 24,
   "id": "7e1efa02",
   "metadata": {},
   "outputs": [],
   "source": [
    "# Importing the necessary libraries\n",
    "from sklearn.linear_model  import LogisticRegression"
   ]
  },
  {
   "cell_type": "code",
   "execution_count": 25,
   "id": "bfea247d",
   "metadata": {},
   "outputs": [],
   "source": [
    "# FITTING THE MODEL:\n",
    "\n",
    "# C indicates the Regularization in the model, the C value indicated the inverse of the regularization strength,\n",
    "# Smaller values of C set stronger regularization.\n",
    "\n",
    "LR = LogisticRegression(C = 0.01).fit(x_train,y_train)\n",
    "score = metrics.accuracy_score(y_test,LR.predict(x_test))"
   ]
  },
  {
   "cell_type": "code",
   "execution_count": null,
   "id": "0b01562c",
   "metadata": {
    "scrolled": true
   },
   "outputs": [],
   "source": []
  },
  {
   "cell_type": "markdown",
   "id": "17fe839a",
   "metadata": {},
   "source": []
  },
  {
   "cell_type": "markdown",
   "id": "f55440b4",
   "metadata": {},
   "source": [
    "### Model Evaluation Using the test dataset"
   ]
  },
  {
   "cell_type": "code",
   "execution_count": 26,
   "id": "f6837a1c",
   "metadata": {},
   "outputs": [],
   "source": [
    "# Loading the necessary libraries:\n",
    "\n",
    "from sklearn.metrics import jaccard_score\n",
    "from sklearn.metrics import f1_score\n",
    "from sklearn.metrics import log_loss"
   ]
  },
  {
   "cell_type": "code",
   "execution_count": 27,
   "id": "e724264f",
   "metadata": {},
   "outputs": [
    {
     "data": {
      "text/html": [
       "<div>\n",
       "<style scoped>\n",
       "    .dataframe tbody tr th:only-of-type {\n",
       "        vertical-align: middle;\n",
       "    }\n",
       "\n",
       "    .dataframe tbody tr th {\n",
       "        vertical-align: top;\n",
       "    }\n",
       "\n",
       "    .dataframe thead th {\n",
       "        text-align: right;\n",
       "    }\n",
       "</style>\n",
       "<table border=\"1\" class=\"dataframe\">\n",
       "  <thead>\n",
       "    <tr style=\"text-align: right;\">\n",
       "      <th></th>\n",
       "      <th>Unnamed: 0.1</th>\n",
       "      <th>Unnamed: 0</th>\n",
       "      <th>loan_status</th>\n",
       "      <th>Principal</th>\n",
       "      <th>terms</th>\n",
       "      <th>effective_date</th>\n",
       "      <th>due_date</th>\n",
       "      <th>age</th>\n",
       "      <th>education</th>\n",
       "      <th>Gender</th>\n",
       "    </tr>\n",
       "  </thead>\n",
       "  <tbody>\n",
       "    <tr>\n",
       "      <th>0</th>\n",
       "      <td>1</td>\n",
       "      <td>1</td>\n",
       "      <td>PAIDOFF</td>\n",
       "      <td>1000</td>\n",
       "      <td>30</td>\n",
       "      <td>9/8/2016</td>\n",
       "      <td>10/7/2016</td>\n",
       "      <td>50</td>\n",
       "      <td>Bechalor</td>\n",
       "      <td>female</td>\n",
       "    </tr>\n",
       "    <tr>\n",
       "      <th>1</th>\n",
       "      <td>5</td>\n",
       "      <td>5</td>\n",
       "      <td>PAIDOFF</td>\n",
       "      <td>300</td>\n",
       "      <td>7</td>\n",
       "      <td>9/9/2016</td>\n",
       "      <td>9/15/2016</td>\n",
       "      <td>35</td>\n",
       "      <td>Master or Above</td>\n",
       "      <td>male</td>\n",
       "    </tr>\n",
       "    <tr>\n",
       "      <th>2</th>\n",
       "      <td>21</td>\n",
       "      <td>21</td>\n",
       "      <td>PAIDOFF</td>\n",
       "      <td>1000</td>\n",
       "      <td>30</td>\n",
       "      <td>9/10/2016</td>\n",
       "      <td>10/9/2016</td>\n",
       "      <td>43</td>\n",
       "      <td>High School or Below</td>\n",
       "      <td>female</td>\n",
       "    </tr>\n",
       "  </tbody>\n",
       "</table>\n",
       "</div>"
      ],
      "text/plain": [
       "   Unnamed: 0.1  Unnamed: 0 loan_status  Principal  terms effective_date  \\\n",
       "0             1           1     PAIDOFF       1000     30       9/8/2016   \n",
       "1             5           5     PAIDOFF        300      7       9/9/2016   \n",
       "2            21          21     PAIDOFF       1000     30      9/10/2016   \n",
       "\n",
       "    due_date  age             education  Gender  \n",
       "0  10/7/2016   50              Bechalor  female  \n",
       "1  9/15/2016   35       Master or Above    male  \n",
       "2  10/9/2016   43  High School or Below  female  "
      ]
     },
     "execution_count": 27,
     "metadata": {},
     "output_type": "execute_result"
    }
   ],
   "source": [
    "# Loading the test dataset:\n",
    "\n",
    "link = 'https://s3-api.us-geo.objectstorage.softlayer.net/cf-courses-data/CognitiveClass/ML0101ENv3/labs/loan_test.csv'\n",
    "\n",
    "tst_data = pd.read_csv(link)\n",
    "\n",
    "tst_data.head(3)"
   ]
  },
  {
   "cell_type": "markdown",
   "id": "a6e43062",
   "metadata": {},
   "source": [
    "**Preparing the test dataset**"
   ]
  },
  {
   "cell_type": "code",
   "execution_count": 28,
   "id": "efe214b1",
   "metadata": {},
   "outputs": [],
   "source": [
    "# Converting the date columns to date type:\n",
    "tst_data['effective_date'] = pd.to_datetime(tst_data['effective_date'])\n",
    "tst_data['due_date'] = pd.to_datetime(tst_data['due_date'])\n",
    "#_____________//_________\n",
    "\n",
    "# GENDER,converting male to 0 and famale to 1:\n",
    "\n",
    "tst_data['Gender'].replace(to_replace = ['male','female'], value = [0,1], inplace = True)\n",
    "#_____________//_________\n",
    "\n",
    "# Selection of what day of the week people get the loan.\n",
    "tst_data['dayofweek'] = tst_data['effective_date'].dt.dayofweek\n",
    "#_____________//_________\n",
    "\n",
    "# This creates a column to say whether the day is weekend or not.\n",
    "tst_data['weekend'] = tst_data['dayofweek'].apply(lambda x:1 if (x>3) else 0)\n",
    "#_____________//_________\n",
    "\n",
    "# Getting the education attribute transformed into for 4 columns:\n",
    "ed_tst = pd.get_dummies(tst_data['education'])\n",
    "\n",
    "    # Dropping the 'Master or Above' column:\n",
    "ed_tst.drop(['Master or Above'], axis = 1, inplace = True)\n",
    "\n",
    "    # Merging the new education collumns into the dataframa that will store the features data\n",
    "\n",
    "feature_tst = tst_data[['Principal','terms','age','Gender','weekend']]\n",
    "x_tst = pd.concat([feature_tst, ed_tst], axis = 1)"
   ]
  },
  {
   "cell_type": "code",
   "execution_count": 29,
   "id": "179eb9b3",
   "metadata": {},
   "outputs": [],
   "source": [
    "y_tst = tst_data['loan_status'].values"
   ]
  },
  {
   "cell_type": "markdown",
   "id": "dd322e06",
   "metadata": {},
   "source": [
    "Normalize the test dataset"
   ]
  },
  {
   "cell_type": "code",
   "execution_count": 30,
   "id": "2dcffb9c",
   "metadata": {},
   "outputs": [],
   "source": [
    "X_tst = preprocessing.StandardScaler().fit(x_tst).transform(x_tst)"
   ]
  },
  {
   "cell_type": "code",
   "execution_count": 31,
   "id": "209c4bf0",
   "metadata": {},
   "outputs": [
    {
     "data": {
      "text/plain": [
       "(54, 8)"
      ]
     },
     "execution_count": 31,
     "metadata": {},
     "output_type": "execute_result"
    }
   ],
   "source": [
    "X_tst.shape"
   ]
  },
  {
   "cell_type": "code",
   "execution_count": 32,
   "id": "9b26ba53",
   "metadata": {},
   "outputs": [
    {
     "data": {
      "text/plain": [
       "(54,)"
      ]
     },
     "execution_count": 32,
     "metadata": {},
     "output_type": "execute_result"
    }
   ],
   "source": [
    "y_tst.shape"
   ]
  },
  {
   "cell_type": "markdown",
   "id": "d6eaef02",
   "metadata": {},
   "source": [
    "### Report"
   ]
  },
  {
   "cell_type": "code",
   "execution_count": 33,
   "id": "5f7a64a3",
   "metadata": {},
   "outputs": [],
   "source": [
    "from sklearn.metrics import jaccard_score\n",
    "from sklearn.metrics import f1_score\n",
    "from sklearn.metrics import log_loss"
   ]
  },
  {
   "cell_type": "markdown",
   "id": "1e625662",
   "metadata": {},
   "source": [
    "**Jaccard_score**\n",
    "<br/>`Accuracy` classification score is a function that computes subset accuracy. This function is equal to the `jaccard_score function`"
   ]
  },
  {
   "cell_type": "code",
   "execution_count": 34,
   "id": "9015b966",
   "metadata": {},
   "outputs": [
    {
     "data": {
      "text/plain": [
       "0.6851851851851852"
      ]
     },
     "execution_count": 34,
     "metadata": {},
     "output_type": "execute_result"
    }
   ],
   "source": [
    "# KNN\n",
    "\n",
    "# Best parameter found, number of neighbors  = 40\n",
    "\n",
    "metrics.accuracy_score(y_tst, KNeighborsClassifier(n_neighbors = 7).fit(x_train,y_train).predict(X_tst))\n"
   ]
  },
  {
   "cell_type": "code",
   "execution_count": 35,
   "id": "61a41abd",
   "metadata": {},
   "outputs": [
    {
     "data": {
      "text/plain": [
       "0.6666666666666666"
      ]
     },
     "execution_count": 35,
     "metadata": {},
     "output_type": "execute_result"
    }
   ],
   "source": [
    "j_KNN = jaccard_score(y_tst, KNeighborsClassifier(n_neighbors = 7).fit(x_train,y_train).predict(X_tst), pos_label = 'PAIDOFF')\n",
    "j_KNN"
   ]
  },
  {
   "cell_type": "code",
   "execution_count": 36,
   "id": "d6a40b3e",
   "metadata": {},
   "outputs": [
    {
     "data": {
      "text/plain": [
       "0.7407407407407407"
      ]
     },
     "execution_count": 36,
     "metadata": {},
     "output_type": "execute_result"
    }
   ],
   "source": [
    "# DECISION TREE\n",
    "\n",
    "# Best parameter found, maximum depth of the tree  = 1\n",
    "    \n",
    "metrics.accuracy_score(y_tst, DecisionTreeClassifier(criterion = 'entropy',max_depth = 1).fit(x_train,y_train).predict(X_tst))"
   ]
  },
  {
   "cell_type": "code",
   "execution_count": 37,
   "id": "aca03e7f",
   "metadata": {},
   "outputs": [
    {
     "data": {
      "text/plain": [
       "0.7407407407407407"
      ]
     },
     "execution_count": 37,
     "metadata": {},
     "output_type": "execute_result"
    }
   ],
   "source": [
    "j_DT = jaccard_score(y_tst, DecisionTreeClassifier(criterion = 'entropy',max_depth = 1).fit(x_train,y_train).predict(X_tst), pos_label = 'PAIDOFF')\n",
    "j_DT"
   ]
  },
  {
   "cell_type": "code",
   "execution_count": 38,
   "id": "6f440296",
   "metadata": {},
   "outputs": [
    {
     "data": {
      "text/plain": [
       "0.7962962962962963"
      ]
     },
     "execution_count": 38,
     "metadata": {},
     "output_type": "execute_result"
    }
   ],
   "source": [
    "#SVM\n",
    "\n",
    "metrics.accuracy_score(y_tst,svm.SVC(kernel = 'rbf').fit(x_train,y_train).predict(X_tst))\n"
   ]
  },
  {
   "cell_type": "code",
   "execution_count": 39,
   "id": "51750cd3",
   "metadata": {},
   "outputs": [
    {
     "data": {
      "text/plain": [
       "0.78"
      ]
     },
     "execution_count": 39,
     "metadata": {},
     "output_type": "execute_result"
    }
   ],
   "source": [
    "j_SVM = jaccard_score(y_tst,svm.SVC(kernel = 'rbf').fit(x_train,y_train).predict(X_tst), pos_label = 'PAIDOFF')\n",
    "j_SVM"
   ]
  },
  {
   "cell_type": "code",
   "execution_count": 40,
   "id": "88a90dce",
   "metadata": {},
   "outputs": [
    {
     "data": {
      "text/plain": [
       "0.7592592592592593"
      ]
     },
     "execution_count": 40,
     "metadata": {},
     "output_type": "execute_result"
    }
   ],
   "source": [
    "#LOGISTIC REGRESSION\n",
    "\n",
    "# Best regularization parameter, C=1\n",
    "metrics.accuracy_score(y_tst,LogisticRegression(C = 1, solver = 'liblinear').fit(x_train,y_train).predict(X_tst))"
   ]
  },
  {
   "cell_type": "code",
   "execution_count": 41,
   "id": "b6fb7173",
   "metadata": {},
   "outputs": [
    {
     "data": {
      "text/plain": [
       "0.75"
      ]
     },
     "execution_count": 41,
     "metadata": {},
     "output_type": "execute_result"
    }
   ],
   "source": [
    "j_LR = jaccard_score(y_tst,LogisticRegression(C = 1, solver = 'liblinear').fit(x_train,y_train).predict(X_tst), pos_label = 'PAIDOFF')\n",
    "j_LR"
   ]
  },
  {
   "cell_type": "markdown",
   "id": "68ec4609",
   "metadata": {},
   "source": [
    "**f1_score**"
   ]
  },
  {
   "cell_type": "code",
   "execution_count": 42,
   "id": "e0cb2717",
   "metadata": {},
   "outputs": [
    {
     "data": {
      "text/plain": [
       "0.6602254428341383"
      ]
     },
     "execution_count": 42,
     "metadata": {},
     "output_type": "execute_result"
    }
   ],
   "source": [
    "# KNN\n",
    "\n",
    "# Best parameter found, number of neighbors  = 40\n",
    "\n",
    "f_KNN = f1_score(y_tst, KNeighborsClassifier(n_neighbors = 7).fit(x_train,y_train).predict(X_tst), average='weighted')\n",
    "f_KNN"
   ]
  },
  {
   "cell_type": "code",
   "execution_count": 43,
   "id": "61686916",
   "metadata": {},
   "outputs": [
    {
     "data": {
      "text/plain": [
       "0.6304176516942475"
      ]
     },
     "execution_count": 43,
     "metadata": {},
     "output_type": "execute_result"
    }
   ],
   "source": [
    "# DECISION TREE\n",
    "\n",
    "# Best parameter found, maximum depth of the tree  = 1\n",
    "    \n",
    "f_DT = f1_score(y_tst, DecisionTreeClassifier(criterion = 'entropy',max_depth = 1).fit(x_train,y_train).predict(X_tst), average='weighted')\n",
    "f_DT"
   ]
  },
  {
   "cell_type": "code",
   "execution_count": 44,
   "id": "00831f1f",
   "metadata": {},
   "outputs": [
    {
     "data": {
      "text/plain": [
       "0.7583503077293734"
      ]
     },
     "execution_count": 44,
     "metadata": {},
     "output_type": "execute_result"
    }
   ],
   "source": [
    "#SVM\n",
    "\n",
    "f_SVM = f1_score(y_tst,svm.SVC(kernel = 'rbf').fit(x_train,y_train).predict(X_tst), average='weighted')\n",
    "f_SVM"
   ]
  },
  {
   "cell_type": "code",
   "execution_count": 45,
   "id": "467727e4",
   "metadata": {},
   "outputs": [
    {
     "data": {
      "text/plain": [
       "0.6959228135698723"
      ]
     },
     "execution_count": 45,
     "metadata": {},
     "output_type": "execute_result"
    }
   ],
   "source": [
    "#LOGISTIC REGRESSION\n",
    "\n",
    "# Best regularization parameter, C=1\n",
    "f_LR = f1_score(y_tst,LogisticRegression(C = 1, solver = 'liblinear').fit(x_train,y_train).predict(X_tst), average='weighted')\n",
    "f_LR"
   ]
  },
  {
   "cell_type": "markdown",
   "id": "7da5295a",
   "metadata": {},
   "source": [
    "**LogLoss**"
   ]
  },
  {
   "cell_type": "code",
   "execution_count": 46,
   "id": "e7d86d6a",
   "metadata": {},
   "outputs": [
    {
     "data": {
      "text/plain": [
       "0.46899782059214606"
      ]
     },
     "execution_count": 46,
     "metadata": {},
     "output_type": "execute_result"
    }
   ],
   "source": [
    "# LOGISTIC REGRESSION\n",
    "\n",
    "l_LR = log_loss(y_tst, LogisticRegression(C = 1, solver = 'liblinear').fit(x_train,y_train).predict_proba(X_tst))\n",
    "l_LR"
   ]
  },
  {
   "cell_type": "markdown",
   "id": "ffddecb7",
   "metadata": {},
   "source": [
    "**SUMMARY_OF_THE_SCORES**"
   ]
  },
  {
   "cell_type": "markdown",
   "id": "2876defc",
   "metadata": {},
   "source": [
    "| Algorithm          | Jaccard | F1-score | LogLoss |\n",
    "| ------------------ | ------- | -------- | ------- |\n",
    "| KNN                | ?       | ?        | NA      |\n",
    "| Decision Tree      | ?       | ?        | NA      |\n",
    "| SVM                | ?       | ?        | NA      |\n",
    "| LogisticRegression | ?       | ?        | ?       |\n"
   ]
  },
  {
   "cell_type": "code",
   "execution_count": 47,
   "id": "e6c7a744",
   "metadata": {},
   "outputs": [],
   "source": [
    "algorithm = ['KNN','Decision Tree','SVM', 'Logistic_Regression']\n",
    "Jaccard = [j_KNN, j_DT, j_SVM, j_LR]\n",
    "F1_Score = [f_KNN, f_DT, f_SVM, f_LR]\n",
    "LogLoss = [\"\",\"\",\"\",l_LR]\n",
    "\n",
    "df_scores = pd.DataFrame()\n",
    "df_scores['algorithm'] = algorithm\n",
    "df_scores['Jaccard'] = Jaccard\n",
    "df_scores['F1_Score'] = F1_Score\n",
    "df_scores['LogLoss'] = LogLoss"
   ]
  },
  {
   "cell_type": "code",
   "execution_count": 48,
   "id": "4ec328ae",
   "metadata": {},
   "outputs": [
    {
     "data": {
      "text/html": [
       "<div>\n",
       "<style scoped>\n",
       "    .dataframe tbody tr th:only-of-type {\n",
       "        vertical-align: middle;\n",
       "    }\n",
       "\n",
       "    .dataframe tbody tr th {\n",
       "        vertical-align: top;\n",
       "    }\n",
       "\n",
       "    .dataframe thead th {\n",
       "        text-align: right;\n",
       "    }\n",
       "</style>\n",
       "<table border=\"1\" class=\"dataframe\">\n",
       "  <thead>\n",
       "    <tr style=\"text-align: right;\">\n",
       "      <th></th>\n",
       "      <th>algorithm</th>\n",
       "      <th>Jaccard</th>\n",
       "      <th>F1_Score</th>\n",
       "      <th>LogLoss</th>\n",
       "    </tr>\n",
       "  </thead>\n",
       "  <tbody>\n",
       "    <tr>\n",
       "      <th>0</th>\n",
       "      <td>KNN</td>\n",
       "      <td>0.666667</td>\n",
       "      <td>0.660225</td>\n",
       "      <td></td>\n",
       "    </tr>\n",
       "    <tr>\n",
       "      <th>1</th>\n",
       "      <td>Decision Tree</td>\n",
       "      <td>0.740741</td>\n",
       "      <td>0.630418</td>\n",
       "      <td></td>\n",
       "    </tr>\n",
       "    <tr>\n",
       "      <th>2</th>\n",
       "      <td>SVM</td>\n",
       "      <td>0.780000</td>\n",
       "      <td>0.758350</td>\n",
       "      <td></td>\n",
       "    </tr>\n",
       "    <tr>\n",
       "      <th>3</th>\n",
       "      <td>Logistic_Regression</td>\n",
       "      <td>0.750000</td>\n",
       "      <td>0.695923</td>\n",
       "      <td>0.468998</td>\n",
       "    </tr>\n",
       "  </tbody>\n",
       "</table>\n",
       "</div>"
      ],
      "text/plain": [
       "             algorithm   Jaccard  F1_Score   LogLoss\n",
       "0                  KNN  0.666667  0.660225          \n",
       "1        Decision Tree  0.740741  0.630418          \n",
       "2                  SVM  0.780000  0.758350          \n",
       "3  Logistic_Regression  0.750000  0.695923  0.468998"
      ]
     },
     "execution_count": 48,
     "metadata": {},
     "output_type": "execute_result"
    }
   ],
   "source": [
    "df_scores"
   ]
  },
  {
   "cell_type": "markdown",
   "id": "4810d01d",
   "metadata": {},
   "source": [
    "#### Author:\n",
    "- name: `Emerson Goncalves`\n",
    "- date: 2022.08.23"
   ]
  },
  {
   "cell_type": "code",
   "execution_count": 49,
   "id": "9925decf",
   "metadata": {},
   "outputs": [
    {
     "data": {
      "text/plain": [
       "datetime.datetime(2022, 8, 24, 11, 49, 50, 14285)"
      ]
     },
     "execution_count": 49,
     "metadata": {},
     "output_type": "execute_result"
    }
   ],
   "source": [
    "from datetime import datetime\n",
    "datetime.now()"
   ]
  },
  {
   "cell_type": "code",
   "execution_count": null,
   "id": "438a6157",
   "metadata": {},
   "outputs": [],
   "source": []
  }
 ],
 "metadata": {
  "kernelspec": {
   "display_name": "Python 3 (ipykernel)",
   "language": "python",
   "name": "python3"
  },
  "language_info": {
   "codemirror_mode": {
    "name": "ipython",
    "version": 3
   },
   "file_extension": ".py",
   "mimetype": "text/x-python",
   "name": "python",
   "nbconvert_exporter": "python",
   "pygments_lexer": "ipython3",
   "version": "3.9.7"
  }
 },
 "nbformat": 4,
 "nbformat_minor": 5
}
